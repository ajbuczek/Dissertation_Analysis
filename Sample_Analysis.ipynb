{
 "cells": [
  {
   "cell_type": "code",
   "execution_count": null,
   "metadata": {},
   "outputs": [],
   "source": [
    "import pandas as pd\n",
    "import numpy as np"
   ]
  },
  {
   "cell_type": "code",
   "execution_count": null,
   "metadata": {},
   "outputs": [],
   "source": [
    "#load in csv with species abundances\n",
    "abundances = pd.read_csv(\"abundances.csv\")\n",
    "abundances.head()"
   ]
  },
  {
   "cell_type": "code",
   "execution_count": null,
   "metadata": {},
   "outputs": [],
   "source": [
    "#assign the number of rows and columns in the dataframe to variables \n",
    "row,col = abundances.shape"
   ]
  },
  {
   "cell_type": "code",
   "execution_count": null,
   "metadata": {},
   "outputs": [],
   "source": [
    "#create a dictionary of the species with the locality and abundance data \n",
    "sppdict = {}\n",
    "for i in range(col):\n",
    "    #if i%2==1, then the column is a data column \n",
    "    #if i%2==0, then it is a species column \n",
    "    if i%2 ==1:\n",
    "        #look up the species at i-1 and the abundance at i \n",
    "        #strip the species of any spaces so that they can all be combined later\n",
    "        species = abundances.iloc[:,i-1].str.strip()\n",
    "        counts = abundances.iloc[:,i]\n",
    "        locality = list(abundances)[i-1]\n",
    "        \n",
    "        for j in range(row):\n",
    "            #create a dictionary in which each entry is a species name \n",
    "            ind_species = species[j]\n",
    "            ind_count = counts[j]\n",
    "            get = sppdict.get(ind_species, None)\n",
    "            \n",
    "            if get== None:\n",
    "                #if there is no entry (which there shouldn't be because it's a blank dictionary), add the locality name and the abundance count for that species \n",
    "                sppdict[ind_species] = [(locality, ind_count)]\n",
    "            else:\n",
    "                #if there is an entry, add the locality and individual count info\n",
    "                sppdict[ind_species] = sppdict[ind_species] + [(locality, ind_count)]"
   ]
  },
  {
   "cell_type": "code",
   "execution_count": null,
   "metadata": {},
   "outputs": [],
   "source": [
    "#create a blank list\n",
    "sample = []\n",
    "for i in range (col):\n",
    "    #make a list of the localities (which are all the odd columns)\n",
    "    if i%2 ==0:\n",
    "        sample.append(list(abundances)[i])\n",
    "#create a new, empty dataframe in which the column names are locality names \n",
    "df1 = pd.DataFrame(columns = sample)\n",
    "df1.head()"
   ]
  },
  {
   "cell_type": "code",
   "execution_count": null,
   "metadata": {},
   "outputs": [],
   "source": [
    "#fill in counts based on locality and species\n",
    "#sppdict.keys() gives you all the species names \n",
    "for i in sppdict.keys():\n",
    "    #this gives you a list of the values (locality, abundance)\n",
    "    value = sppdict[i]\n",
    "    \n",
    "    #assign locality and count to variables \n",
    "    for j,k in value:\n",
    "        locality = j\n",
    "        count = k\n",
    "        \n",
    "        #fill in the blank dataframe with the count based on the index of species name, locality \n",
    "        df1.at[i, locality] = k   "
   ]
  },
  {
   "cell_type": "code",
   "execution_count": null,
   "metadata": {},
   "outputs": [],
   "source": [
    "#Fill NaNs with 0\n",
    "df1 = df1.fillna(0)"
   ]
  },
  {
   "cell_type": "code",
   "execution_count": null,
   "metadata": {},
   "outputs": [],
   "source": [
    "#sort the dataframe by species name \n",
    "df1 = df1.sort_index()\n",
    "df1 = df1.reindex(sorted(df1.columns), axis = 1)"
   ]
  },
  {
   "cell_type": "code",
   "execution_count": null,
   "metadata": {},
   "outputs": [],
   "source": [
    "#export the merged dataframe and use that csv to fix any typos\n",
    "df1.to_csv('abundances_merged.csv')\n",
    "#Go check species names and fix any issues - save as abundances_new.csv"
   ]
  },
  {
   "cell_type": "code",
   "execution_count": null,
   "metadata": {},
   "outputs": [],
   "source": [
    "#read in the new dataframe with the fixed typos\n",
    "df2 = pd.read_csv(\"abundances_edited.csv\")\n",
    "df2 = df2.set_index('Species')\n",
    "#combine the species now that they were fixed - grouby prevents the data from being lost but instead adds the values for each column together as they merge\n",
    "df2 = df2.groupby(df2.index).sum()"
   ]
  },
  {
   "cell_type": "code",
   "execution_count": null,
   "metadata": {},
   "outputs": [],
   "source": [
    "#transpose so that columns are equal to species (attributes) and rows are localities (samples)\n",
    "df2 = df2.transpose()"
   ]
  },
  {
   "cell_type": "code",
   "execution_count": null,
   "metadata": {},
   "outputs": [],
   "source": [
    "#export as the cleaned and merged dataframe \n",
    "df2.to_csv('abundances_cleaned.csv')\n",
    "df2.head()"
   ]
  },
  {
   "cell_type": "code",
   "execution_count": null,
   "metadata": {},
   "outputs": [],
   "source": [
    "#load in csv with list of all bivalves in dataset\n",
    "bivalves = pd.read_csv(\"Bivalvia_noSD.csv\")"
   ]
  },
  {
   "cell_type": "code",
   "execution_count": null,
   "metadata": {},
   "outputs": [],
   "source": [
    "#convert csv to list \n",
    "bivalvia = list(bivalves['Bivalves'])"
   ]
  },
  {
   "cell_type": "code",
   "execution_count": null,
   "metadata": {},
   "outputs": [],
   "source": [
    "#create a new dataframe in which all bivalve abundances are divided by 2\n",
    "df3 = df2.copy()\n",
    "for i in bivalvia:\n",
    "    df3[i] = df2[i].divide(2).apply(np.ceil)  "
   ]
  },
  {
   "cell_type": "code",
   "execution_count": null,
   "metadata": {},
   "outputs": [],
   "source": [
    "#create a new dataframe in which all abundances are relative proportions (species abundance/total individual count)\n",
    "df4 = df3.divide(df2.sum(axis = 1), axis = 0)\n"
   ]
  },
  {
   "cell_type": "code",
   "execution_count": null,
   "metadata": {},
   "outputs": [],
   "source": [
    "#export as proportion abundances\n",
    "df4.to_csv(\"Proportional_Abundances.csv\")"
   ]
  },
  {
   "cell_type": "code",
   "execution_count": null,
   "metadata": {},
   "outputs": [],
   "source": [
    "#export as raw abundances\n",
    "df3.to_csv(\"Final_Raw_Abundances.csv\")"
   ]
  },
  {
   "cell_type": "code",
   "execution_count": null,
   "metadata": {},
   "outputs": [],
   "source": [
    "import numpy as np\n",
    "import matplotlib.pyplot as plt\n",
    "import pandas as pd\n",
    "!pip install scikit-bio\n",
    "from sklearn import manifold\n"
   ]
  },
  {
   "cell_type": "code",
   "execution_count": null,
   "metadata": {},
   "outputs": [],
   "source": [
    "#read in abundance csv\n",
    "original = pd.read_csv('Proportional_Abundances.csv')\n",
    "original.head()\n",
    "#set index as localities\n",
    "original = original.set_index('Localities')\n",
    "#convert to a numpy array\n",
    "a_original = np.array(original)\n",
    "#set the localities as the indices\n",
    "ids = original.index"
   ]
  },
  {
   "cell_type": "code",
   "execution_count": null,
   "metadata": {},
   "outputs": [],
   "source": [
    "#load in numpy array of bray curtis distances\n",
    "bc = np.load('bcdistances.npy')\n",
    "#check shape of the array\n",
    "type(bc)"
   ]
  },
  {
   "cell_type": "code",
   "execution_count": null,
   "metadata": {},
   "outputs": [],
   "source": [
    "#convert the numpy array to a dataframe to make further steps easier\n",
    "bc_df = pd.DataFrame(data = bc, index = ids, columns = ids)"
   ]
  },
  {
   "cell_type": "code",
   "execution_count": null,
   "metadata": {},
   "outputs": [],
   "source": [
    "#import necessary packages for NMDS\n",
    "import skbio.diversity\n",
    "from skbio.diversity import beta_diversity\n",
    "from skbio import DistanceMatrix\n",
    "bc = beta_diversity(\"braycurtis\", a_original, ids = ids)"
   ]
  },
  {
   "cell_type": "code",
   "execution_count": null,
   "metadata": {},
   "outputs": [],
   "source": [
    "#calculate the nmds using manifold.MDS, specify 'false' for metric because it is non-metric\n",
    "#specify 'precomputed' for dissimilarity because already computed as bray curtis\n",
    "nmds = manifold.MDS(n_components = 2, metric = \"false\", max_iter = 3000, eps = 1e-12, \n",
    "                     dissimilarity = 'precomputed', n_jobs = 1)\n",
    "npos = nmds.fit_transform(bc_df)\n",
    "#specify the columns\n",
    "cols = ['x','y']\n",
    "#make the coordinates into a dataframe \n",
    "coords = pd.DataFrame(data = npos, columns = cols)\n",
    "coords['Localities'] = ids"
   ]
  },
  {
   "cell_type": "code",
   "execution_count": null,
   "metadata": {},
   "outputs": [],
   "source": [
    "#read in the previously created lookup table \n",
    "lookup = pd.read_csv('lookup.csv')"
   ]
  },
  {
   "cell_type": "code",
   "execution_count": null,
   "metadata": {},
   "outputs": [],
   "source": [
    "#Copy the x and y coordinates into their own variables \n",
    "x = coords[['Localities', 'x']].copy()\n",
    "y = coords[['Localities', 'y']].copy()"
   ]
  },
  {
   "cell_type": "code",
   "execution_count": null,
   "metadata": {},
   "outputs": [],
   "source": [
    "#make the coordinates into dictionaries\n",
    "x_dict = x.set_index('Localities')['x'].to_dict()\n",
    "y_dict = y.set_index('Localities')['y'].to_dict()"
   ]
  },
  {
   "cell_type": "code",
   "execution_count": null,
   "metadata": {},
   "outputs": [],
   "source": [
    "#map the dictionaries to the lookup table\n",
    "lookup['x'] = lookup['Field #'].map(x_dict.get)\n",
    "lookup['y'] = lookup['Field #'].map(y_dict.get)"
   ]
  },
  {
   "cell_type": "code",
   "execution_count": null,
   "metadata": {},
   "outputs": [],
   "source": [
    "#set index as the Field # in the lookup table and sort by the Formation and Locality\n",
    "lookup = lookup.set_index('Field #')\n",
    "lookup = lookup.sort_values(by = ['Formation', 'Locality'])"
   ]
  },
  {
   "cell_type": "code",
   "execution_count": null,
   "metadata": {},
   "outputs": [],
   "source": [
    "#make independent dataframes for each geological formation\n",
    "careaga = lookup[lookup[\"Formation\"] == 'Careaga']\n",
    "pico = lookup[lookup[\"Formation\"] == 'Pico']\n",
    "sandiego = lookup[lookup [\"Formation\"] == 'San Diego']"
   ]
  },
  {
   "cell_type": "code",
   "execution_count": null,
   "metadata": {},
   "outputs": [],
   "source": [
    "#import seaborn for data visualization\n",
    "import seaborn as sns"
   ]
  },
  {
   "cell_type": "code",
   "execution_count": null,
   "metadata": {},
   "outputs": [],
   "source": [
    "#Plot in reduced ordination space and color code points by Locality \n",
    "p1 = sns.scatterplot(x = 'x', y = 'y', data = lookup, hue = 'Locality',\n",
    "                style = \"Formation\", s = 50, palette = \"magma\")\n",
    "\n",
    "plt.legend(bbox_to_anchor = (1.05,1), loc = 2, borderaxespad = 0)\n",
    "\n",
    "for line in range(0, lookup.shape[0]):\n",
    "    p1.text(lookup.x[line]+0.05, lookup.y[line], lookup.index[line], horizontalalignment='left', \n",
    "            size = 'small', color = 'black')\n",
    "    \n",
    "plt.savefig('NMDS.png', bbox_inches = 'tight', dpi = 100)\n"
   ]
  },
  {
   "cell_type": "code",
   "execution_count": null,
   "metadata": {},
   "outputs": [],
   "source": [
    "#Plot only Careaga Sandstone samples in reduced ordination space\n",
    "\n",
    "p3 = sns.scatterplot(x = 'x', y = 'y', style = \"Locality\", data = careaga, s = 50, palette = 'viridis')\n",
    "plt.legend(bbox_to_anchor = (1.05, 1), loc = 2, borderaxespad = 0)\n",
    "\n",
    "for line in range(0, careaga.shape[0]):\n",
    "    p3.text(careaga.x[line]+0.05, careaga.y[line], careaga.index[line], horizontalalignment='left', \n",
    "            size = 'small', color = 'black', weight = 'semibold')"
   ]
  },
  {
   "cell_type": "code",
   "execution_count": null,
   "metadata": {},
   "outputs": [],
   "source": [
    "#Plot only Pico Formation samples in reduced ordination space\n",
    "p8 = sns.scatterplot(x = 'x', y = 'y', data = pico, style = 'Locality', s = 50, palette = 'viridis')\n",
    "plt.legend(bbox_to_anchor = (1.05, 1), loc = 2, borderaxespad = 0)\n",
    "\n",
    "for line in range(0, pico.shape[0]):\n",
    "    p8.text(pico.x[line]+0.05, pico.y[line], pico.index[line], horizontalalignment='left', \n",
    "            size = 'small', color = 'black', weight = 'semibold')"
   ]
  },
  {
   "cell_type": "code",
   "execution_count": null,
   "metadata": {},
   "outputs": [],
   "source": [
    "#calculate the kmeans on the original matrix\n",
    "import scipy\n",
    "from skbio.diversity import beta_diversity\n",
    "from skbio import DistanceMatrix\n",
    "bc = beta_diversity(\"braycurtis\", a_original, ids = ids)\n",
    "bc1 = DistanceMatrix.redundant_form(bc)"
   ]
  },
  {
   "cell_type": "code",
   "execution_count": null,
   "metadata": {},
   "outputs": [],
   "source": [
    "kmeans = KMeans(n_clusters = 3).fit(bc1)\n",
    "ykmeans = kmeans.fit_predict(bc1)\n",
    "c = kmeans.cluster_centers_"
   ]
  },
  {
   "cell_type": "code",
   "execution_count": null,
   "metadata": {},
   "outputs": [],
   "source": [
    "#create arrays for each cluster\n",
    "bc1 = bc_df.copy()\n",
    "bc1['Cluster'] = list(ykmeans)\n",
    "cl0 = bc1[bc1[\"Cluster\"] == 0]\n",
    "cl1 = bc1[bc1[\"Cluster\"] == 1]\n",
    "cl2 = bc1[bc1[\"Cluster\"] == 2]\n",
    "cl0 = cl0.drop(\"Cluster\", axis = 1)\n",
    "cl1 = cl1.drop(\"Cluster\", axis = 1)\n",
    "cl2 = cl2.drop(\"Cluster\", axis = 1)\n",
    "cl0 = np.array(cl0)\n",
    "cl1 = np.array(cl1)\n",
    "cl2 = np.array(cl2)"
   ]
  },
  {
   "cell_type": "code",
   "execution_count": null,
   "metadata": {},
   "outputs": [],
   "source": [
    "#calculate mean and std of clusters from their relative centers\n",
    "cl_0 = np.abs(cl0 - c[0])\n",
    "print(cl_0.mean(), cl_0.std())\n",
    "cl_1 = np.abs(cl1 - c[1])\n",
    "print(cl_1.mean(), cl_1.std())\n",
    "cl_2 = np.abs(cl1 - c[2])\n",
    "print(cl_2.mean(), cl_2.std())"
   ]
  },
  {
   "cell_type": "code",
   "execution_count": null,
   "metadata": {},
   "outputs": [],
   "source": [
    "from scipy import stats"
   ]
  },
  {
   "cell_type": "code",
   "execution_count": null,
   "metadata": {},
   "outputs": [],
   "source": [
    "#calculate the kmeans on the coordinates to visualize in 2D space\n",
    "kmeans= KMeans(n_clusters = 3).fit(npos)\n",
    "ykmeans = kmeans.fit_predict(npos)\n",
    "c = kmeans.cluster_centers_"
   ]
  },
  {
   "cell_type": "code",
   "execution_count": null,
   "metadata": {},
   "outputs": [],
   "source": [
    "#create a scatter plot of the coordinates using the kmeans analysis to see how they cluster\n",
    "plt.scatter(npos[:,0], npos[:,1], c = ykmeans, s = 50, cmap = \"viridis\")\n",
    "plt.scatter(c[:,0], c[:,1], marker = 'X', c = \"R\")\n",
    "plt.savefig('kmeans.png', bbox_inches = 'tight', dpi = 100)"
   ]
  },
  {
   "cell_type": "code",
   "execution_count": null,
   "metadata": {},
   "outputs": [],
   "source": [
    "from sklearn.cluster import AgglomerativeClustering\n",
    "import numpy as np\n",
    "clustering = AgglomerativeClustering(affinity='precomputed', compute_full_tree='auto',\n",
    "                        connectivity=None,\n",
    "                        linkage='single', memory=None, n_clusters=2,\n",
    "                        pooling_func='deprecated').fit(bc1)\n",
    "clustering\n",
    "clustering.labels_"
   ]
  },
  {
   "cell_type": "code",
   "execution_count": null,
   "metadata": {},
   "outputs": [],
   "source": [
    "from scipy.spatial.distance import pdist, squareform\n",
    "from scipy.cluster import hierarchy\n",
    "import matplotlib.pyplot as plt\n",
    "\n",
    "\n",
    "bc_condensed = pdist(a_original, 'braycurtis')\n",
    "Z = hierarchy.linkage(bc_condensed, 'single')\n",
    "# Plot with Custom leaves\n",
    "dn=hierarchy.dendrogram(Z, leaf_rotation=0, leaf_font_size=5, labels=original.index, orientation = 'right')\n",
    "plt.gcf()\n",
    "plt.savefig('dendrogram.png', dpi = 150)"
   ]
  },
  {
   "cell_type": "code",
   "execution_count": null,
   "metadata": {},
   "outputs": [],
   "source": []
  }
 ],
 "metadata": {
  "kernelspec": {
   "display_name": "Python 3",
   "language": "python",
   "name": "python3"
  },
  "language_info": {
   "codemirror_mode": {
    "name": "ipython",
    "version": 3
   },
   "file_extension": ".py",
   "mimetype": "text/x-python",
   "name": "python",
   "nbconvert_exporter": "python",
   "pygments_lexer": "ipython3",
   "version": "3.6.10"
  }
 },
 "nbformat": 4,
 "nbformat_minor": 4
}
