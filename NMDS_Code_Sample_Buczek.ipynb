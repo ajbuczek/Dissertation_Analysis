{
 "cells": [
  {
   "cell_type": "code",
   "execution_count": 1,
   "metadata": {},
   "outputs": [],
   "source": [
    "import pandas as pd\n",
    "import numpy as np"
   ]
  },
  {
   "cell_type": "code",
   "execution_count": 2,
   "metadata": {},
   "outputs": [
    {
     "data": {
      "text/html": [
       "<div>\n",
       "<style scoped>\n",
       "    .dataframe tbody tr th:only-of-type {\n",
       "        vertical-align: middle;\n",
       "    }\n",
       "\n",
       "    .dataframe tbody tr th {\n",
       "        vertical-align: top;\n",
       "    }\n",
       "\n",
       "    .dataframe thead th {\n",
       "        text-align: right;\n",
       "    }\n",
       "</style>\n",
       "<table border=\"1\" class=\"dataframe\">\n",
       "  <thead>\n",
       "    <tr style=\"text-align: right;\">\n",
       "      <th></th>\n",
       "      <th>AB170511</th>\n",
       "      <th>Unnamed: 1</th>\n",
       "      <th>AB170512</th>\n",
       "      <th>Unnamed: 3</th>\n",
       "      <th>AB170601</th>\n",
       "      <th>Unnamed: 5</th>\n",
       "      <th>AB170604</th>\n",
       "      <th>Unnamed: 7</th>\n",
       "      <th>AB170605</th>\n",
       "      <th>Unnamed: 9</th>\n",
       "      <th>...</th>\n",
       "      <th>AB180616</th>\n",
       "      <th>Unnamed: 79</th>\n",
       "      <th>AB180617</th>\n",
       "      <th>Unnamed: 81</th>\n",
       "      <th>AH180602</th>\n",
       "      <th>Unnamed: 83</th>\n",
       "      <th>SDMNH B</th>\n",
       "      <th>Unnamed: 85</th>\n",
       "      <th>SDMNH C</th>\n",
       "      <th>Unnamed: 87</th>\n",
       "    </tr>\n",
       "  </thead>\n",
       "  <tbody>\n",
       "    <tr>\n",
       "      <th>0</th>\n",
       "      <td>Amiantis callosa</td>\n",
       "      <td>2.0</td>\n",
       "      <td>Argopecten invalidus</td>\n",
       "      <td>11.0</td>\n",
       "      <td>Caesia californianus</td>\n",
       "      <td>20.0</td>\n",
       "      <td>Crepidula princeps</td>\n",
       "      <td>50.0</td>\n",
       "      <td>Crepidula princeps</td>\n",
       "      <td>3.0</td>\n",
       "      <td>...</td>\n",
       "      <td>Caryocorbula porcella</td>\n",
       "      <td>1.0</td>\n",
       "      <td>Admete gracilior</td>\n",
       "      <td>1.0</td>\n",
       "      <td>Asperiscala cedrosensis</td>\n",
       "      <td>10.0</td>\n",
       "      <td>Acila castrensis</td>\n",
       "      <td>13.0</td>\n",
       "      <td>Acila castrensis</td>\n",
       "      <td>25.0</td>\n",
       "    </tr>\n",
       "    <tr>\n",
       "      <th>1</th>\n",
       "      <td>Anadara trilineata</td>\n",
       "      <td>1.0</td>\n",
       "      <td>Asperiscala cedrosensis</td>\n",
       "      <td>1.0</td>\n",
       "      <td>Calyptraea contorta</td>\n",
       "      <td>2.0</td>\n",
       "      <td>Lirobittium casmaliense</td>\n",
       "      <td>111.0</td>\n",
       "      <td>Leopecten stearnsii</td>\n",
       "      <td>2.0</td>\n",
       "      <td>...</td>\n",
       "      <td>Chama arcana</td>\n",
       "      <td>1.0</td>\n",
       "      <td>Alia carinata</td>\n",
       "      <td>1.0</td>\n",
       "      <td>Caesia californianus</td>\n",
       "      <td>6.0</td>\n",
       "      <td>Acila castrensis</td>\n",
       "      <td>85.0</td>\n",
       "      <td>Amphissa versicolor</td>\n",
       "      <td>1.0</td>\n",
       "    </tr>\n",
       "    <tr>\n",
       "      <th>2</th>\n",
       "      <td>Argopecten invalidus</td>\n",
       "      <td>1.0</td>\n",
       "      <td>Asperiscala cedrosensis</td>\n",
       "      <td>3.0</td>\n",
       "      <td>Crepidula princeps</td>\n",
       "      <td>38.0</td>\n",
       "      <td>Mitrella gausapata</td>\n",
       "      <td>1.0</td>\n",
       "      <td>Lirobittium casmaliense</td>\n",
       "      <td>16.0</td>\n",
       "      <td>...</td>\n",
       "      <td>Crepidula princeps</td>\n",
       "      <td>21.0</td>\n",
       "      <td>Argopecten invalidus</td>\n",
       "      <td>2.0</td>\n",
       "      <td>Cancellaria hemphilli</td>\n",
       "      <td>3.0</td>\n",
       "      <td>Anadara trilineata</td>\n",
       "      <td>354.0</td>\n",
       "      <td>Anadara trilineata</td>\n",
       "      <td>651.0</td>\n",
       "    </tr>\n",
       "    <tr>\n",
       "      <th>3</th>\n",
       "      <td>Argopecten invalidus</td>\n",
       "      <td>11.0</td>\n",
       "      <td>Caesia californianus</td>\n",
       "      <td>5.0</td>\n",
       "      <td>Cryptonatica affinis</td>\n",
       "      <td>2.0</td>\n",
       "      <td>Mitrella tuberosa</td>\n",
       "      <td>1.0</td>\n",
       "      <td>Lituyapecten dilleri</td>\n",
       "      <td>1.0</td>\n",
       "      <td>...</td>\n",
       "      <td>Cyclocardia californica</td>\n",
       "      <td>10.0</td>\n",
       "      <td>Boreotrophon pedroanis</td>\n",
       "      <td>1.0</td>\n",
       "      <td>Cerithiopsidella sp.</td>\n",
       "      <td>1.0</td>\n",
       "      <td>Anadara trilineata</td>\n",
       "      <td>1379.0</td>\n",
       "      <td>Asperiscala cedrosensis</td>\n",
       "      <td>4.0</td>\n",
       "    </tr>\n",
       "    <tr>\n",
       "      <th>4</th>\n",
       "      <td>Asperiscala cedrosensis</td>\n",
       "      <td>2.0</td>\n",
       "      <td>Caesia californianus</td>\n",
       "      <td>20.0</td>\n",
       "      <td>Lirobittium casmaliense</td>\n",
       "      <td>249.0</td>\n",
       "      <td>Pandora bilirata</td>\n",
       "      <td>3.0</td>\n",
       "      <td>NaN</td>\n",
       "      <td>NaN</td>\n",
       "      <td>...</td>\n",
       "      <td>Homolopoma luridum</td>\n",
       "      <td>1.0</td>\n",
       "      <td>Calyptraea contorta</td>\n",
       "      <td>2.0</td>\n",
       "      <td>Cerithiopsidella sp.</td>\n",
       "      <td>2.0</td>\n",
       "      <td>Argopecten invalidus</td>\n",
       "      <td>1.0</td>\n",
       "      <td>Calliostoma coalingensis</td>\n",
       "      <td>1.0</td>\n",
       "    </tr>\n",
       "  </tbody>\n",
       "</table>\n",
       "<p>5 rows × 88 columns</p>\n",
       "</div>"
      ],
      "text/plain": [
       "                  AB170511  Unnamed: 1                 AB170512  Unnamed: 3  \\\n",
       "0         Amiantis callosa         2.0     Argopecten invalidus        11.0   \n",
       "1       Anadara trilineata         1.0  Asperiscala cedrosensis         1.0   \n",
       "2     Argopecten invalidus         1.0  Asperiscala cedrosensis         3.0   \n",
       "3     Argopecten invalidus        11.0     Caesia californianus         5.0   \n",
       "4  Asperiscala cedrosensis         2.0     Caesia californianus        20.0   \n",
       "\n",
       "                  AB170601  Unnamed: 5                 AB170604  Unnamed: 7  \\\n",
       "0     Caesia californianus        20.0       Crepidula princeps        50.0   \n",
       "1      Calyptraea contorta         2.0  Lirobittium casmaliense       111.0   \n",
       "2       Crepidula princeps        38.0       Mitrella gausapata         1.0   \n",
       "3     Cryptonatica affinis         2.0        Mitrella tuberosa         1.0   \n",
       "4  Lirobittium casmaliense       249.0         Pandora bilirata         3.0   \n",
       "\n",
       "                  AB170605  Unnamed: 9  ...                 AB180616  \\\n",
       "0       Crepidula princeps         3.0  ...    Caryocorbula porcella   \n",
       "1      Leopecten stearnsii         2.0  ...             Chama arcana   \n",
       "2  Lirobittium casmaliense        16.0  ...       Crepidula princeps   \n",
       "3     Lituyapecten dilleri         1.0  ...  Cyclocardia californica   \n",
       "4                      NaN         NaN  ...       Homolopoma luridum   \n",
       "\n",
       "   Unnamed: 79                AB180617  Unnamed: 81                 AH180602  \\\n",
       "0          1.0        Admete gracilior          1.0  Asperiscala cedrosensis   \n",
       "1          1.0           Alia carinata          1.0     Caesia californianus   \n",
       "2         21.0    Argopecten invalidus          2.0    Cancellaria hemphilli   \n",
       "3         10.0  Boreotrophon pedroanis          1.0     Cerithiopsidella sp.   \n",
       "4          1.0     Calyptraea contorta          2.0     Cerithiopsidella sp.   \n",
       "\n",
       "   Unnamed: 83               SDMNH B  Unnamed: 85                   SDMNH C  \\\n",
       "0         10.0      Acila castrensis         13.0          Acila castrensis   \n",
       "1          6.0      Acila castrensis         85.0       Amphissa versicolor   \n",
       "2          3.0    Anadara trilineata        354.0        Anadara trilineata   \n",
       "3          1.0    Anadara trilineata       1379.0   Asperiscala cedrosensis   \n",
       "4          2.0  Argopecten invalidus          1.0  Calliostoma coalingensis   \n",
       "\n",
       "   Unnamed: 87  \n",
       "0         25.0  \n",
       "1          1.0  \n",
       "2        651.0  \n",
       "3          4.0  \n",
       "4          1.0  \n",
       "\n",
       "[5 rows x 88 columns]"
      ]
     },
     "execution_count": 2,
     "metadata": {},
     "output_type": "execute_result"
    }
   ],
   "source": [
    "#load in csv with species abundances\n",
    "abundances = pd.read_csv(\"abundances.csv\")\n",
    "abundances.head()"
   ]
  },
  {
   "cell_type": "code",
   "execution_count": 17,
   "metadata": {},
   "outputs": [],
   "source": [
    "#assign the number of rows and columns in the dataframe to variables \n",
    "row,col = abundances.shape"
   ]
  },
  {
   "cell_type": "code",
   "execution_count": 13,
   "metadata": {},
   "outputs": [],
   "source": [
    "#create a dictionary of the species with the locality and abundance data \n",
    "sppdict = {}\n",
    "for i in range(col):\n",
    "    #if i%2==1, then the column is a data column \n",
    "    #if i%2==0, then it is a species column \n",
    "    if i%2 ==1:\n",
    "        #look up the species at i-1 and the abundance at i \n",
    "        #strip the species of any spaces so that they can all be combined later\n",
    "        species = abundances.iloc[:,i-1].str.strip()\n",
    "        counts = abundances.iloc[:,i]\n",
    "        locality = list(abundances)[i-1]\n",
    "        \n",
    "        for j in range(row):\n",
    "            #create a dictionary in which each entry is a species name \n",
    "            ind_species = species[j]\n",
    "            ind_count = counts[j]\n",
    "            get = sppdict.get(ind_species, None)\n",
    "            \n",
    "            if get== None:\n",
    "                #if there is no entry (which there shouldn't be because it's a blank dictionary), add the locality name and the abundance count for that species \n",
    "                sppdict[ind_species] = [(locality, ind_count)]\n",
    "            else:\n",
    "                #if there is an entry, add the locality and individual count info\n",
    "                sppdict[ind_species] = sppdict[ind_species] + [(locality, ind_count)]"
   ]
  },
  {
   "cell_type": "code",
   "execution_count": 14,
   "metadata": {},
   "outputs": [
    {
     "data": {
      "text/html": [
       "<div>\n",
       "<style scoped>\n",
       "    .dataframe tbody tr th:only-of-type {\n",
       "        vertical-align: middle;\n",
       "    }\n",
       "\n",
       "    .dataframe tbody tr th {\n",
       "        vertical-align: top;\n",
       "    }\n",
       "\n",
       "    .dataframe thead th {\n",
       "        text-align: right;\n",
       "    }\n",
       "</style>\n",
       "<table border=\"1\" class=\"dataframe\">\n",
       "  <thead>\n",
       "    <tr style=\"text-align: right;\">\n",
       "      <th></th>\n",
       "      <th>AB170511</th>\n",
       "      <th>AB170512</th>\n",
       "      <th>AB170601</th>\n",
       "      <th>AB170604</th>\n",
       "      <th>AB170605</th>\n",
       "      <th>AB170609</th>\n",
       "      <th>AB170610</th>\n",
       "      <th>AB170611</th>\n",
       "      <th>AB170612</th>\n",
       "      <th>AB170617</th>\n",
       "      <th>...</th>\n",
       "      <th>AB180606</th>\n",
       "      <th>AB180607</th>\n",
       "      <th>AB180613</th>\n",
       "      <th>AB180614</th>\n",
       "      <th>AB180615</th>\n",
       "      <th>AB180616</th>\n",
       "      <th>AB180617</th>\n",
       "      <th>AH180602</th>\n",
       "      <th>SDMNH B</th>\n",
       "      <th>SDMNH C</th>\n",
       "    </tr>\n",
       "  </thead>\n",
       "  <tbody>\n",
       "  </tbody>\n",
       "</table>\n",
       "<p>0 rows × 44 columns</p>\n",
       "</div>"
      ],
      "text/plain": [
       "Empty DataFrame\n",
       "Columns: [AB170511, AB170512, AB170601, AB170604, AB170605, AB170609, AB170610, AB170611, AB170612, AB170617, AB170619, AB170620, AB170621, AB170621.1, AB170628, AB170629, AB170630, AB170631, AB170632, AB180101, AB180102, AB180103, AB180104, AB180105, AB180106, AB180107, AB180108, AB180112, AB180114, AB180115, AH180601, AB180602, AB180604, AB180605, AB180606, AB180607, AB180613, AB180614, AB180615, AB180616, AB180617, AH180602, SDMNH B, SDMNH C]\n",
       "Index: []\n",
       "\n",
       "[0 rows x 44 columns]"
      ]
     },
     "execution_count": 14,
     "metadata": {},
     "output_type": "execute_result"
    }
   ],
   "source": [
    "#create a blank list\n",
    "sample = []\n",
    "for i in range (col):\n",
    "    #make a list of the localities (which are all the odd columns)\n",
    "    if i%2 ==0:\n",
    "        sample.append(list(abundances)[i])\n",
    "#create a new, empty dataframe in which the column names are locality names \n",
    "df1 = pd.DataFrame(columns = sample)\n",
    "df1.head()"
   ]
  },
  {
   "cell_type": "code",
   "execution_count": 15,
   "metadata": {},
   "outputs": [],
   "source": [
    "#fill in counts based on locality and species\n",
    "#sppdict.keys() gives you all the species names \n",
    "for i in sppdict.keys():\n",
    "    #this gives you a list of the values (locality, abundance)\n",
    "    value = sppdict[i]\n",
    "    \n",
    "    #assign locality and count to variables \n",
    "    for j,k in value:\n",
    "        locality = j\n",
    "        count = k\n",
    "        \n",
    "        #fill in the blank dataframe with the count based on the index of species name, locality \n",
    "        df1.at[i, locality] = k   "
   ]
  },
  {
   "cell_type": "code",
   "execution_count": 16,
   "metadata": {},
   "outputs": [],
   "source": [
    "#Fill NaNs with 0\n",
    "df1 = df1.fillna(0)"
   ]
  },
  {
   "cell_type": "code",
   "execution_count": 17,
   "metadata": {},
   "outputs": [],
   "source": [
    "#sort the dataframe by species name \n",
    "df1 = df1.sort_index()\n",
    "df1 = df1.reindex(sorted(df1.columns), axis = 1)"
   ]
  },
  {
   "cell_type": "code",
   "execution_count": 18,
   "metadata": {},
   "outputs": [],
   "source": [
    "#export the merged dataframe and use that csv to fix any typos\n",
    "df1.to_csv('abundances_merged.csv')\n",
    "#Go check species names and fix any issues - save as abundances_new.csv"
   ]
  },
  {
   "cell_type": "code",
   "execution_count": 18,
   "metadata": {},
   "outputs": [],
   "source": [
    "#read in the new dataframe with the fixed typos\n",
    "df2 = pd.read_csv(\"abundances_edited.csv\")\n",
    "df2 = df2.set_index('Species')\n",
    "#combine the species now that they were fixed - grouby prevents the data from being lost but instead adds the values for each column together as they merge\n",
    "df2 = df2.groupby(df2.index).sum()"
   ]
  },
  {
   "cell_type": "code",
   "execution_count": 27,
   "metadata": {},
   "outputs": [],
   "source": [
    "#transpose so that columns are equal to species (attributes) and rows are localities (samples)\n",
    "df2 = df2.transpose()"
   ]
  },
  {
   "cell_type": "code",
   "execution_count": 28,
   "metadata": {},
   "outputs": [
    {
     "data": {
      "text/html": [
       "<div>\n",
       "<style scoped>\n",
       "    .dataframe tbody tr th:only-of-type {\n",
       "        vertical-align: middle;\n",
       "    }\n",
       "\n",
       "    .dataframe tbody tr th {\n",
       "        vertical-align: top;\n",
       "    }\n",
       "\n",
       "    .dataframe thead th {\n",
       "        text-align: right;\n",
       "    }\n",
       "</style>\n",
       "<table border=\"1\" class=\"dataframe\">\n",
       "  <thead>\n",
       "    <tr style=\"text-align: right;\">\n",
       "      <th>Species</th>\n",
       "      <th>Aartsenia sanesia</th>\n",
       "      <th>Acanthinucella spirata</th>\n",
       "      <th>Acila castrensis</th>\n",
       "      <th>Acmaea mitra</th>\n",
       "      <th>Acteocina infrequens</th>\n",
       "      <th>Admete gracilior</th>\n",
       "      <th>Alia carinata</th>\n",
       "      <th>Amiantis callosa</th>\n",
       "      <th>Amphissa versicolor</th>\n",
       "      <th>Anadara trilineata</th>\n",
       "      <th>...</th>\n",
       "      <th>Tresus nuttallii</th>\n",
       "      <th>Turbonilla canfieldi</th>\n",
       "      <th>Turbonilla sp.</th>\n",
       "      <th>Turbonilla stearnsi</th>\n",
       "      <th>Turritella cooperi</th>\n",
       "      <th>Turritella woodsi</th>\n",
       "      <th>Urosalpinx subangulata</th>\n",
       "      <th>Yoldia cooperi</th>\n",
       "      <th>Zirfaea pilsbryi</th>\n",
       "      <th>Zonarea spadicea</th>\n",
       "    </tr>\n",
       "  </thead>\n",
       "  <tbody>\n",
       "    <tr>\n",
       "      <th>AB170511</th>\n",
       "      <td>0</td>\n",
       "      <td>0</td>\n",
       "      <td>0</td>\n",
       "      <td>0</td>\n",
       "      <td>0</td>\n",
       "      <td>0</td>\n",
       "      <td>0</td>\n",
       "      <td>2</td>\n",
       "      <td>0</td>\n",
       "      <td>1</td>\n",
       "      <td>...</td>\n",
       "      <td>0</td>\n",
       "      <td>0</td>\n",
       "      <td>0</td>\n",
       "      <td>0</td>\n",
       "      <td>1035</td>\n",
       "      <td>0</td>\n",
       "      <td>0</td>\n",
       "      <td>0</td>\n",
       "      <td>0</td>\n",
       "      <td>0</td>\n",
       "    </tr>\n",
       "    <tr>\n",
       "      <th>AB170512</th>\n",
       "      <td>0</td>\n",
       "      <td>0</td>\n",
       "      <td>0</td>\n",
       "      <td>0</td>\n",
       "      <td>0</td>\n",
       "      <td>0</td>\n",
       "      <td>0</td>\n",
       "      <td>0</td>\n",
       "      <td>0</td>\n",
       "      <td>0</td>\n",
       "      <td>...</td>\n",
       "      <td>0</td>\n",
       "      <td>0</td>\n",
       "      <td>0</td>\n",
       "      <td>0</td>\n",
       "      <td>1258</td>\n",
       "      <td>0</td>\n",
       "      <td>0</td>\n",
       "      <td>0</td>\n",
       "      <td>0</td>\n",
       "      <td>0</td>\n",
       "    </tr>\n",
       "    <tr>\n",
       "      <th>AB170601</th>\n",
       "      <td>0</td>\n",
       "      <td>0</td>\n",
       "      <td>0</td>\n",
       "      <td>0</td>\n",
       "      <td>0</td>\n",
       "      <td>0</td>\n",
       "      <td>0</td>\n",
       "      <td>0</td>\n",
       "      <td>0</td>\n",
       "      <td>0</td>\n",
       "      <td>...</td>\n",
       "      <td>0</td>\n",
       "      <td>0</td>\n",
       "      <td>0</td>\n",
       "      <td>0</td>\n",
       "      <td>0</td>\n",
       "      <td>0</td>\n",
       "      <td>0</td>\n",
       "      <td>0</td>\n",
       "      <td>0</td>\n",
       "      <td>0</td>\n",
       "    </tr>\n",
       "    <tr>\n",
       "      <th>AB170604</th>\n",
       "      <td>0</td>\n",
       "      <td>0</td>\n",
       "      <td>0</td>\n",
       "      <td>0</td>\n",
       "      <td>0</td>\n",
       "      <td>0</td>\n",
       "      <td>0</td>\n",
       "      <td>0</td>\n",
       "      <td>0</td>\n",
       "      <td>0</td>\n",
       "      <td>...</td>\n",
       "      <td>0</td>\n",
       "      <td>0</td>\n",
       "      <td>0</td>\n",
       "      <td>0</td>\n",
       "      <td>0</td>\n",
       "      <td>0</td>\n",
       "      <td>0</td>\n",
       "      <td>0</td>\n",
       "      <td>0</td>\n",
       "      <td>0</td>\n",
       "    </tr>\n",
       "    <tr>\n",
       "      <th>AB170605</th>\n",
       "      <td>0</td>\n",
       "      <td>0</td>\n",
       "      <td>0</td>\n",
       "      <td>0</td>\n",
       "      <td>0</td>\n",
       "      <td>0</td>\n",
       "      <td>0</td>\n",
       "      <td>0</td>\n",
       "      <td>0</td>\n",
       "      <td>0</td>\n",
       "      <td>...</td>\n",
       "      <td>0</td>\n",
       "      <td>0</td>\n",
       "      <td>0</td>\n",
       "      <td>0</td>\n",
       "      <td>0</td>\n",
       "      <td>0</td>\n",
       "      <td>0</td>\n",
       "      <td>0</td>\n",
       "      <td>0</td>\n",
       "      <td>0</td>\n",
       "    </tr>\n",
       "  </tbody>\n",
       "</table>\n",
       "<p>5 rows × 207 columns</p>\n",
       "</div>"
      ],
      "text/plain": [
       "Species   Aartsenia sanesia  Acanthinucella spirata  Acila castrensis  \\\n",
       "AB170511                  0                       0                 0   \n",
       "AB170512                  0                       0                 0   \n",
       "AB170601                  0                       0                 0   \n",
       "AB170604                  0                       0                 0   \n",
       "AB170605                  0                       0                 0   \n",
       "\n",
       "Species   Acmaea mitra  Acteocina infrequens  Admete gracilior  Alia carinata  \\\n",
       "AB170511             0                     0                 0              0   \n",
       "AB170512             0                     0                 0              0   \n",
       "AB170601             0                     0                 0              0   \n",
       "AB170604             0                     0                 0              0   \n",
       "AB170605             0                     0                 0              0   \n",
       "\n",
       "Species   Amiantis callosa  Amphissa versicolor  Anadara trilineata  ...  \\\n",
       "AB170511                 2                    0                   1  ...   \n",
       "AB170512                 0                    0                   0  ...   \n",
       "AB170601                 0                    0                   0  ...   \n",
       "AB170604                 0                    0                   0  ...   \n",
       "AB170605                 0                    0                   0  ...   \n",
       "\n",
       "Species   Tresus nuttallii  Turbonilla canfieldi  Turbonilla sp.  \\\n",
       "AB170511                 0                     0               0   \n",
       "AB170512                 0                     0               0   \n",
       "AB170601                 0                     0               0   \n",
       "AB170604                 0                     0               0   \n",
       "AB170605                 0                     0               0   \n",
       "\n",
       "Species   Turbonilla stearnsi  Turritella cooperi  Turritella woodsi  \\\n",
       "AB170511                    0                1035                  0   \n",
       "AB170512                    0                1258                  0   \n",
       "AB170601                    0                   0                  0   \n",
       "AB170604                    0                   0                  0   \n",
       "AB170605                    0                   0                  0   \n",
       "\n",
       "Species   Urosalpinx subangulata  Yoldia cooperi  Zirfaea pilsbryi  \\\n",
       "AB170511                       0               0                 0   \n",
       "AB170512                       0               0                 0   \n",
       "AB170601                       0               0                 0   \n",
       "AB170604                       0               0                 0   \n",
       "AB170605                       0               0                 0   \n",
       "\n",
       "Species   Zonarea spadicea  \n",
       "AB170511                 0  \n",
       "AB170512                 0  \n",
       "AB170601                 0  \n",
       "AB170604                 0  \n",
       "AB170605                 0  \n",
       "\n",
       "[5 rows x 207 columns]"
      ]
     },
     "execution_count": 28,
     "metadata": {},
     "output_type": "execute_result"
    }
   ],
   "source": [
    "#export as the cleaned and merged dataframe \n",
    "df2.to_csv('abundances_cleaned.csv')\n",
    "df2.head()"
   ]
  },
  {
   "cell_type": "code",
   "execution_count": 32,
   "metadata": {},
   "outputs": [],
   "source": [
    "#load in csv with list of all bivalves in dataset\n",
    "bivalves = pd.read_csv(\"Bivalvia_noSD.csv\")"
   ]
  },
  {
   "cell_type": "code",
   "execution_count": 33,
   "metadata": {},
   "outputs": [],
   "source": [
    "#convert csv to list \n",
    "bivalvia = list(bivalves['Bivalves'])"
   ]
  },
  {
   "cell_type": "code",
   "execution_count": 34,
   "metadata": {},
   "outputs": [],
   "source": [
    "#create a new dataframe in which all bivalve abundances are divided by 2\n",
    "df3 = df2.copy()\n",
    "for i in bivalvia:\n",
    "    df3[i] = df2[i].divide(2).apply(np.ceil)  "
   ]
  },
  {
   "cell_type": "code",
   "execution_count": 35,
   "metadata": {},
   "outputs": [],
   "source": [
    "#create a new dataframe in which all abundances are relative proportions (species abundance/total individual count)\n",
    "df4 = df3.divide(df2.sum(axis = 1), axis = 0)\n"
   ]
  },
  {
   "cell_type": "code",
   "execution_count": 2,
   "metadata": {},
   "outputs": [
    {
     "ename": "NameError",
     "evalue": "name 'df4' is not defined",
     "output_type": "error",
     "traceback": [
      "\u001b[0;31m---------------------------------------------------------------------------\u001b[0m",
      "\u001b[0;31mNameError\u001b[0m                                 Traceback (most recent call last)",
      "\u001b[0;32m<ipython-input-2-e95632a4c491>\u001b[0m in \u001b[0;36m<module>\u001b[0;34m\u001b[0m\n\u001b[1;32m      1\u001b[0m \u001b[0;31m#export as proportion abundances\u001b[0m\u001b[0;34m\u001b[0m\u001b[0;34m\u001b[0m\u001b[0;34m\u001b[0m\u001b[0m\n\u001b[0;32m----> 2\u001b[0;31m \u001b[0mdf4\u001b[0m\u001b[0;34m.\u001b[0m\u001b[0mto_csv\u001b[0m\u001b[0;34m(\u001b[0m\u001b[0;34m\"Proportional_Abundances.csv\"\u001b[0m\u001b[0;34m)\u001b[0m\u001b[0;34m\u001b[0m\u001b[0;34m\u001b[0m\u001b[0m\n\u001b[0m",
      "\u001b[0;31mNameError\u001b[0m: name 'df4' is not defined"
     ]
    }
   ],
   "source": [
    "#export as proportion abundances\n",
    "df4.to_csv(\"Proportional_Abundances.csv\")"
   ]
  },
  {
   "cell_type": "code",
   "execution_count": 37,
   "metadata": {},
   "outputs": [],
   "source": [
    "#export as raw abundances\n",
    "df3.to_csv(\"Final_Raw_Abundances.csv\")"
   ]
  },
  {
   "cell_type": "code",
   "execution_count": 1,
   "metadata": {
    "collapsed": true,
    "jupyter": {
     "outputs_hidden": true
    }
   },
   "outputs": [
    {
     "name": "stdout",
     "output_type": "stream",
     "text": [
      "Requirement already satisfied: scikit-bio in /home/jupyterlab/conda/envs/python/lib/python3.6/site-packages (0.5.5)\n",
      "Requirement already satisfied: scikit-learn>=0.19.1 in /home/jupyterlab/conda/envs/python/lib/python3.6/site-packages (from scikit-bio) (0.20.1)\n",
      "Requirement already satisfied: pandas>=0.23 in /home/jupyterlab/conda/envs/python/lib/python3.6/site-packages (from scikit-bio) (0.25.1)\n",
      "Requirement already satisfied: natsort>=4.0.3 in /home/jupyterlab/conda/envs/python/lib/python3.6/site-packages (from scikit-bio) (6.0.0)\n",
      "Requirement already satisfied: decorator>=3.4.2 in /home/jupyterlab/conda/envs/python/lib/python3.6/site-packages (from scikit-bio) (4.4.0)\n",
      "Requirement already satisfied: scipy>=0.15.1 in /home/jupyterlab/conda/envs/python/lib/python3.6/site-packages (from scikit-bio) (1.1.0)\n",
      "Requirement already satisfied: IPython>=3.2.0 in /home/jupyterlab/conda/envs/python/lib/python3.6/site-packages (from scikit-bio) (7.8.0)\n",
      "Requirement already satisfied: hdmedians>=0.13 in /home/jupyterlab/conda/envs/python/lib/python3.6/site-packages (from scikit-bio) (0.13)\n",
      "Requirement already satisfied: numpy>=1.9.2 in /home/jupyterlab/conda/envs/python/lib/python3.6/site-packages (from scikit-bio) (1.15.4)\n",
      "Requirement already satisfied: matplotlib>=1.4.3 in /home/jupyterlab/conda/envs/python/lib/python3.6/site-packages (from scikit-bio) (3.1.1)\n",
      "Requirement already satisfied: CacheControl>=0.11.5 in /home/jupyterlab/conda/envs/python/lib/python3.6/site-packages (from scikit-bio) (0.12.5)\n",
      "Requirement already satisfied: lockfile>=0.10.2 in /home/jupyterlab/conda/envs/python/lib/python3.6/site-packages (from scikit-bio) (0.12.2)\n",
      "Requirement already satisfied: pytz>=2017.2 in /home/jupyterlab/conda/envs/python/lib/python3.6/site-packages (from pandas>=0.23->scikit-bio) (2019.2)\n",
      "Requirement already satisfied: python-dateutil>=2.6.1 in /home/jupyterlab/conda/envs/python/lib/python3.6/site-packages (from pandas>=0.23->scikit-bio) (2.8.0)\n",
      "Requirement already satisfied: setuptools>=18.5 in /home/jupyterlab/conda/envs/python/lib/python3.6/site-packages (from IPython>=3.2.0->scikit-bio) (41.2.0)\n",
      "Requirement already satisfied: prompt-toolkit<2.1.0,>=2.0.0 in /home/jupyterlab/conda/envs/python/lib/python3.6/site-packages (from IPython>=3.2.0->scikit-bio) (2.0.9)\n",
      "Requirement already satisfied: traitlets>=4.2 in /home/jupyterlab/conda/envs/python/lib/python3.6/site-packages (from IPython>=3.2.0->scikit-bio) (4.3.2)\n",
      "Requirement already satisfied: pexpect; sys_platform != \"win32\" in /home/jupyterlab/conda/envs/python/lib/python3.6/site-packages (from IPython>=3.2.0->scikit-bio) (4.7.0)\n",
      "Requirement already satisfied: jedi>=0.10 in /home/jupyterlab/conda/envs/python/lib/python3.6/site-packages (from IPython>=3.2.0->scikit-bio) (0.15.1)\n",
      "Requirement already satisfied: pickleshare in /home/jupyterlab/conda/envs/python/lib/python3.6/site-packages (from IPython>=3.2.0->scikit-bio) (0.7.5)\n",
      "Requirement already satisfied: backcall in /home/jupyterlab/conda/envs/python/lib/python3.6/site-packages (from IPython>=3.2.0->scikit-bio) (0.1.0)\n",
      "Requirement already satisfied: pygments in /home/jupyterlab/conda/envs/python/lib/python3.6/site-packages (from IPython>=3.2.0->scikit-bio) (2.4.2)\n",
      "Requirement already satisfied: Cython>=0.23 in /home/jupyterlab/conda/envs/python/lib/python3.6/site-packages (from hdmedians>=0.13->scikit-bio) (0.29.13)\n",
      "Requirement already satisfied: pyparsing!=2.0.4,!=2.1.2,!=2.1.6,>=2.0.1 in /home/jupyterlab/conda/envs/python/lib/python3.6/site-packages (from matplotlib>=1.4.3->scikit-bio) (2.4.2)\n",
      "Requirement already satisfied: cycler>=0.10 in /home/jupyterlab/conda/envs/python/lib/python3.6/site-packages (from matplotlib>=1.4.3->scikit-bio) (0.10.0)\n",
      "Requirement already satisfied: kiwisolver>=1.0.1 in /home/jupyterlab/conda/envs/python/lib/python3.6/site-packages (from matplotlib>=1.4.3->scikit-bio) (1.1.0)\n",
      "Requirement already satisfied: requests in /home/jupyterlab/conda/envs/python/lib/python3.6/site-packages (from CacheControl>=0.11.5->scikit-bio) (2.22.0)\n",
      "Requirement already satisfied: msgpack in /home/jupyterlab/conda/envs/python/lib/python3.6/site-packages (from CacheControl>=0.11.5->scikit-bio) (0.6.2)\n",
      "Requirement already satisfied: six>=1.5 in /home/jupyterlab/conda/envs/python/lib/python3.6/site-packages (from python-dateutil>=2.6.1->pandas>=0.23->scikit-bio) (1.12.0)\n",
      "Requirement already satisfied: wcwidth in /home/jupyterlab/conda/envs/python/lib/python3.6/site-packages (from prompt-toolkit<2.1.0,>=2.0.0->IPython>=3.2.0->scikit-bio) (0.1.7)\n",
      "Requirement already satisfied: ipython_genutils in /home/jupyterlab/conda/envs/python/lib/python3.6/site-packages (from traitlets>=4.2->IPython>=3.2.0->scikit-bio) (0.2.0)\n",
      "Requirement already satisfied: ptyprocess>=0.5 in /home/jupyterlab/conda/envs/python/lib/python3.6/site-packages (from pexpect; sys_platform != \"win32\"->IPython>=3.2.0->scikit-bio) (0.6.0)\n",
      "Requirement already satisfied: parso>=0.5.0 in /home/jupyterlab/conda/envs/python/lib/python3.6/site-packages (from jedi>=0.10->IPython>=3.2.0->scikit-bio) (0.5.1)\n",
      "Requirement already satisfied: urllib3!=1.25.0,!=1.25.1,<1.26,>=1.21.1 in /home/jupyterlab/conda/envs/python/lib/python3.6/site-packages (from requests->CacheControl>=0.11.5->scikit-bio) (1.24.3)\n",
      "Requirement already satisfied: chardet<3.1.0,>=3.0.2 in /home/jupyterlab/conda/envs/python/lib/python3.6/site-packages (from requests->CacheControl>=0.11.5->scikit-bio) (3.0.4)\n",
      "Requirement already satisfied: idna<2.9,>=2.5 in /home/jupyterlab/conda/envs/python/lib/python3.6/site-packages (from requests->CacheControl>=0.11.5->scikit-bio) (2.8)\n",
      "Requirement already satisfied: certifi>=2017.4.17 in /home/jupyterlab/conda/envs/python/lib/python3.6/site-packages (from requests->CacheControl>=0.11.5->scikit-bio) (2019.6.16)\n"
     ]
    }
   ],
   "source": [
    "import numpy as np\n",
    "import matplotlib.pyplot as plt\n",
    "import pandas as pd\n",
    "!pip install scikit-bio\n",
    "from sklearn import manifold\n"
   ]
  },
  {
   "cell_type": "code",
   "execution_count": 2,
   "metadata": {},
   "outputs": [],
   "source": [
    "#read in abundance csv\n",
    "original = pd.read_csv('Proportional_Abundances.csv')\n",
    "original.head()\n",
    "#set index as localities\n",
    "original = original.set_index('Localities')\n",
    "#convert to a numpy array\n",
    "a_original = np.array(original)\n",
    "#set the localities as the indices\n",
    "ids = original.index"
   ]
  },
  {
   "cell_type": "code",
   "execution_count": 17,
   "metadata": {},
   "outputs": [
    {
     "data": {
      "text/plain": [
       "numpy.ndarray"
      ]
     },
     "execution_count": 17,
     "metadata": {},
     "output_type": "execute_result"
    }
   ],
   "source": [
    "#load in numpy array of bray curtis distances\n",
    "bc = np.load('bcdistances.npy')\n",
    "#check shape of the array\n",
    "type(bc)"
   ]
  },
  {
   "cell_type": "code",
   "execution_count": 4,
   "metadata": {},
   "outputs": [],
   "source": [
    "#convert the numpy array to a dataframe to make further steps easier\n",
    "bc_df = pd.DataFrame(data = bc, index = ids, columns = ids)"
   ]
  },
  {
   "cell_type": "code",
   "execution_count": 5,
   "metadata": {},
   "outputs": [],
   "source": [
    "#import necessary packages for NMDS\n",
    "import skbio.diversity\n",
    "from skbio.diversity import beta_diversity\n",
    "from skbio import DistanceMatrix\n",
    "bc = beta_diversity(\"braycurtis\", a_original, ids = ids)"
   ]
  },
  {
   "cell_type": "code",
   "execution_count": 6,
   "metadata": {},
   "outputs": [],
   "source": [
    "#calculate the nmds using manifold.MDS, specify 'false' for metric because it is non-metric\n",
    "#specify 'precomputed' for dissimilarity because already computed as bray curtis\n",
    "nmds = manifold.MDS(n_components = 2, metric = \"false\", max_iter = 3000, eps = 1e-12, \n",
    "                     dissimilarity = 'precomputed', n_jobs = 1)\n",
    "npos = nmds.fit_transform(bc_df)\n",
    "#specify the columns\n",
    "cols = ['x','y']\n",
    "#make the coordinates into a dataframe \n",
    "coords = pd.DataFrame(data = npos, columns = cols)\n",
    "coords['Localities'] = ids"
   ]
  },
  {
   "cell_type": "code",
   "execution_count": 7,
   "metadata": {},
   "outputs": [],
   "source": [
    "#read in the previously created lookup table \n",
    "lookup = pd.read_csv('lookup.csv')"
   ]
  },
  {
   "cell_type": "code",
   "execution_count": 8,
   "metadata": {},
   "outputs": [],
   "source": [
    "#Copy the x and y coordinates into their own variables \n",
    "x = coords[['Localities', 'x']].copy()\n",
    "y = coords[['Localities', 'y']].copy()"
   ]
  },
  {
   "cell_type": "code",
   "execution_count": 9,
   "metadata": {},
   "outputs": [],
   "source": [
    "#make the coordinates into dictionaries\n",
    "x_dict = x.set_index('Localities')['x'].to_dict()\n",
    "y_dict = y.set_index('Localities')['y'].to_dict()"
   ]
  },
  {
   "cell_type": "code",
   "execution_count": 11,
   "metadata": {},
   "outputs": [],
   "source": [
    "#map the dictionaries to the lookup table\n",
    "lookup['x'] = lookup['Field #'].map(x_dict.get)\n",
    "lookup['y'] = lookup['Field #'].map(y_dict.get)"
   ]
  },
  {
   "cell_type": "code",
   "execution_count": 12,
   "metadata": {},
   "outputs": [
    {
     "data": {
      "text/html": [
       "<div>\n",
       "<style scoped>\n",
       "    .dataframe tbody tr th:only-of-type {\n",
       "        vertical-align: middle;\n",
       "    }\n",
       "\n",
       "    .dataframe tbody tr th {\n",
       "        vertical-align: top;\n",
       "    }\n",
       "\n",
       "    .dataframe thead th {\n",
       "        text-align: right;\n",
       "    }\n",
       "</style>\n",
       "<table border=\"1\" class=\"dataframe\">\n",
       "  <thead>\n",
       "    <tr style=\"text-align: right;\">\n",
       "      <th></th>\n",
       "      <th>Locality</th>\n",
       "      <th>Formation</th>\n",
       "      <th>Institutional No.</th>\n",
       "      <th>Latitude</th>\n",
       "      <th>Longitude</th>\n",
       "      <th>Lithology</th>\n",
       "      <th>Grain Size</th>\n",
       "      <th>Size #</th>\n",
       "      <th>x</th>\n",
       "      <th>y</th>\n",
       "    </tr>\n",
       "    <tr>\n",
       "      <th>Field #</th>\n",
       "      <th></th>\n",
       "      <th></th>\n",
       "      <th></th>\n",
       "      <th></th>\n",
       "      <th></th>\n",
       "      <th></th>\n",
       "      <th></th>\n",
       "      <th></th>\n",
       "      <th></th>\n",
       "      <th></th>\n",
       "    </tr>\n",
       "  </thead>\n",
       "  <tbody>\n",
       "    <tr>\n",
       "      <td>AB170617</td>\n",
       "      <td>Fugler</td>\n",
       "      <td>Careaga</td>\n",
       "      <td>41811.0</td>\n",
       "      <td>34.77452</td>\n",
       "      <td>120.48124</td>\n",
       "      <td>Sandstone</td>\n",
       "      <td>Medium Sand</td>\n",
       "      <td>4.0</td>\n",
       "      <td>-0.152293</td>\n",
       "      <td>-0.123228</td>\n",
       "    </tr>\n",
       "    <tr>\n",
       "      <td>AB170610</td>\n",
       "      <td>HWY 101</td>\n",
       "      <td>Careaga</td>\n",
       "      <td>41804.0</td>\n",
       "      <td>34.81980</td>\n",
       "      <td>120.45040</td>\n",
       "      <td>Sandstone</td>\n",
       "      <td>Medium Sand</td>\n",
       "      <td>4.0</td>\n",
       "      <td>-0.642985</td>\n",
       "      <td>0.154118</td>\n",
       "    </tr>\n",
       "    <tr>\n",
       "      <td>AB170611</td>\n",
       "      <td>HWY 101</td>\n",
       "      <td>Careaga</td>\n",
       "      <td>41805.0</td>\n",
       "      <td>34.81980</td>\n",
       "      <td>120.45041</td>\n",
       "      <td>Sandstone</td>\n",
       "      <td>Medium Sand</td>\n",
       "      <td>4.0</td>\n",
       "      <td>-0.685958</td>\n",
       "      <td>0.081417</td>\n",
       "    </tr>\n",
       "    <tr>\n",
       "      <td>AB170612</td>\n",
       "      <td>HWY 101</td>\n",
       "      <td>Careaga</td>\n",
       "      <td>41806.0</td>\n",
       "      <td>34.81980</td>\n",
       "      <td>120.45041</td>\n",
       "      <td>Sandstone</td>\n",
       "      <td>Medium Sand</td>\n",
       "      <td>4.0</td>\n",
       "      <td>-0.636431</td>\n",
       "      <td>0.005015</td>\n",
       "    </tr>\n",
       "    <tr>\n",
       "      <td>AB170601</td>\n",
       "      <td>Shuman</td>\n",
       "      <td>Careaga</td>\n",
       "      <td>41795.0</td>\n",
       "      <td>34.87537</td>\n",
       "      <td>120.51431</td>\n",
       "      <td>Mudstone</td>\n",
       "      <td>Silt</td>\n",
       "      <td>1.0</td>\n",
       "      <td>-0.150730</td>\n",
       "      <td>0.585404</td>\n",
       "    </tr>\n",
       "  </tbody>\n",
       "</table>\n",
       "</div>"
      ],
      "text/plain": [
       "         Locality Formation  Institutional No.   Latitude  Longitude  \\\n",
       "Field #                                                                \n",
       "AB170617   Fugler   Careaga             41811.0  34.77452  120.48124   \n",
       "AB170610  HWY 101   Careaga             41804.0  34.81980  120.45040   \n",
       "AB170611  HWY 101   Careaga             41805.0  34.81980  120.45041   \n",
       "AB170612  HWY 101   Careaga             41806.0  34.81980  120.45041   \n",
       "AB170601   Shuman   Careaga             41795.0  34.87537  120.51431   \n",
       "\n",
       "          Lithology   Grain Size  Size #         x         y  \n",
       "Field #                                                       \n",
       "AB170617  Sandstone  Medium Sand     4.0 -0.152293 -0.123228  \n",
       "AB170610  Sandstone  Medium Sand     4.0 -0.642985  0.154118  \n",
       "AB170611  Sandstone  Medium Sand     4.0 -0.685958  0.081417  \n",
       "AB170612  Sandstone  Medium Sand     4.0 -0.636431  0.005015  \n",
       "AB170601   Mudstone         Silt     1.0 -0.150730  0.585404  "
      ]
     },
     "execution_count": 12,
     "metadata": {},
     "output_type": "execute_result"
    }
   ],
   "source": [
    "#set index as the Field # in the lookup table and sort by the Formation and Locality\n",
    "lookup = lookup.set_index('Field #')\n",
    "lookup = lookup.sort_values(by = ['Formation', 'Locality'])"
   ]
  },
  {
   "cell_type": "code",
   "execution_count": 12,
   "metadata": {},
   "outputs": [],
   "source": [
    "#make independent dataframes for each geological formation\n",
    "careaga = lookup[lookup[\"Formation\"] == 'Careaga']\n",
    "pico = lookup[lookup[\"Formation\"] == 'Pico']\n",
    "sandiego = lookup[lookup [\"Formation\"] == 'San Diego']"
   ]
  },
  {
   "cell_type": "code",
   "execution_count": 13,
   "metadata": {},
   "outputs": [],
   "source": [
    "#import seaborn for data visualization\n",
    "import seaborn as sns"
   ]
  },
  {
   "cell_type": "code",
   "execution_count": 14,
   "metadata": {},
   "outputs": [
    {
     "data": {
      "image/png": "[encoded data removed]",
      "text/plain": [
       "<Figure size 432x288 with 1 Axes>"
      ]
     },
     "metadata": {
      "needs_background": "light"
     },
     "output_type": "display_data"
    }
   ],
   "source": [
    "#Plot in reduced ordination space and color code points by Locality \n",
    "p1 = sns.scatterplot(x = 'x', y = 'y', data = lookup, hue = 'Locality',\n",
    "                style = \"Formation\", s = 50, palette = \"magma\")\n",
    "\n",
    "plt.legend(bbox_to_anchor = (1.05,1), loc = 2, borderaxespad = 0)\n",
    "\n",
    "for line in range(0, lookup.shape[0]):\n",
    "    p1.text(lookup.x[line]+0.05, lookup.y[line], lookup.index[line], horizontalalignment='left', \n",
    "            size = 'small', color = 'black')\n",
    "    \n",
    "plt.savefig('NMDS.png', bbox_inches = 'tight', dpi = 100)\n"
   ]
  },
  {
   "cell_type": "code",
   "execution_count": 53,
   "metadata": {},
   "outputs": [
    {
     "data": {
      "image/png": "[encoded data removed]",
      "text/plain": [
       "<Figure size 432x288 with 1 Axes>"
      ]
     },
     "metadata": {
      "needs_background": "light"
     },
     "output_type": "display_data"
    }
   ],
   "source": [
    "#Plot only Careaga Sandstone samples in reduced ordination space\n",
    "\n",
    "p3 = sns.scatterplot(x = 'x', y = 'y', style = \"Locality\", data = careaga, s = 50, palette = 'viridis')\n",
    "plt.legend(bbox_to_anchor = (1.05, 1), loc = 2, borderaxespad = 0)\n",
    "\n",
    "for line in range(0, careaga.shape[0]):\n",
    "    p3.text(careaga.x[line]+0.05, careaga.y[line], careaga.index[line], horizontalalignment='left', \n",
    "            size = 'small', color = 'black', weight = 'semibold')"
   ]
  },
  {
   "cell_type": "code",
   "execution_count": 36,
   "metadata": {},
   "outputs": [
    {
     "data": {
      "image/png": "[encoded data removed]",
      "text/plain": [
       "<Figure size 432x288 with 1 Axes>"
      ]
     },
     "metadata": {
      "needs_background": "light"
     },
     "output_type": "display_data"
    }
   ],
   "source": [
    "#Plot only Pico Formation samples in reduced ordination space\n",
    "p8 = sns.scatterplot(x = 'x', y = 'y', data = pico, style = 'Locality', s = 50, palette = 'viridis')\n",
    "plt.legend(bbox_to_anchor = (1.05, 1), loc = 2, borderaxespad = 0)\n",
    "\n",
    "for line in range(0, pico.shape[0]):\n",
    "    p8.text(pico.x[line]+0.05, pico.y[line], pico.index[line], horizontalalignment='left', \n",
    "            size = 'small', color = 'black', weight = 'semibold')"
   ]
  },
  {
   "cell_type": "code",
   "execution_count": 54,
   "metadata": {},
   "outputs": [
    {
     "ename": "IndexError",
     "evalue": "index out of bounds",
     "output_type": "error",
     "traceback": [
      "\u001b[0;31m---------------------------------------------------------------------------\u001b[0m",
      "\u001b[0;31mKeyError\u001b[0m                                  Traceback (most recent call last)",
      "\u001b[0;32m~/conda/lib/python3.6/site-packages/pandas/core/indexes/base.py\u001b[0m in \u001b[0;36mget_value\u001b[0;34m(self, series, key)\u001b[0m\n\u001b[1;32m   4374\u001b[0m             return self._engine.get_value(s, k,\n\u001b[0;32m-> 4375\u001b[0;31m                                           tz=getattr(series.dtype, 'tz', None))\n\u001b[0m\u001b[1;32m   4376\u001b[0m         \u001b[0;32mexcept\u001b[0m \u001b[0mKeyError\u001b[0m \u001b[0;32mas\u001b[0m \u001b[0me1\u001b[0m\u001b[0;34m:\u001b[0m\u001b[0;34m\u001b[0m\u001b[0;34m\u001b[0m\u001b[0m\n",
      "\u001b[0;32mpandas/_libs/index.pyx\u001b[0m in \u001b[0;36mpandas._libs.index.IndexEngine.get_value\u001b[0;34m()\u001b[0m\n",
      "\u001b[0;32mpandas/_libs/index.pyx\u001b[0m in \u001b[0;36mpandas._libs.index.IndexEngine.get_value\u001b[0;34m()\u001b[0m\n",
      "\u001b[0;32mpandas/_libs/index.pyx\u001b[0m in \u001b[0;36mpandas._libs.index.IndexEngine.get_loc\u001b[0;34m()\u001b[0m\n",
      "\u001b[0;32mpandas/_libs/hashtable_class_helper.pxi\u001b[0m in \u001b[0;36mpandas._libs.hashtable.PyObjectHashTable.get_item\u001b[0;34m()\u001b[0m\n",
      "\u001b[0;32mpandas/_libs/hashtable_class_helper.pxi\u001b[0m in \u001b[0;36mpandas._libs.hashtable.PyObjectHashTable.get_item\u001b[0;34m()\u001b[0m\n",
      "\u001b[0;31mKeyError\u001b[0m: 14",
      "\nDuring handling of the above exception, another exception occurred:\n",
      "\u001b[0;31mIndexError\u001b[0m                                Traceback (most recent call last)",
      "\u001b[0;32m<ipython-input-54-7e165ed8ea02>\u001b[0m in \u001b[0;36m<module>\u001b[0;34m\u001b[0m\n\u001b[1;32m      3\u001b[0m \u001b[0;34m\u001b[0m\u001b[0m\n\u001b[1;32m      4\u001b[0m \u001b[0;32mfor\u001b[0m \u001b[0mline\u001b[0m \u001b[0;32min\u001b[0m \u001b[0mrange\u001b[0m\u001b[0;34m(\u001b[0m\u001b[0;36m0\u001b[0m\u001b[0;34m,\u001b[0m \u001b[0mpico\u001b[0m\u001b[0;34m.\u001b[0m\u001b[0mshape\u001b[0m\u001b[0;34m[\u001b[0m\u001b[0;36m0\u001b[0m\u001b[0;34m]\u001b[0m\u001b[0;34m)\u001b[0m\u001b[0;34m:\u001b[0m\u001b[0;34m\u001b[0m\u001b[0;34m\u001b[0m\u001b[0m\n\u001b[0;32m----> 5\u001b[0;31m     p9.text(sandiego.x[line]+0.05, sandiego.y[line], sandiego.index[line], horizontalalignment='left', \n\u001b[0m\u001b[1;32m      6\u001b[0m             size = 'small', color = 'black', weight = 'semibold')\n",
      "\u001b[0;32m~/conda/lib/python3.6/site-packages/pandas/core/series.py\u001b[0m in \u001b[0;36m__getitem__\u001b[0;34m(self, key)\u001b[0m\n\u001b[1;32m    866\u001b[0m         \u001b[0mkey\u001b[0m \u001b[0;34m=\u001b[0m \u001b[0mcom\u001b[0m\u001b[0;34m.\u001b[0m\u001b[0mapply_if_callable\u001b[0m\u001b[0;34m(\u001b[0m\u001b[0mkey\u001b[0m\u001b[0;34m,\u001b[0m \u001b[0mself\u001b[0m\u001b[0;34m)\u001b[0m\u001b[0;34m\u001b[0m\u001b[0;34m\u001b[0m\u001b[0m\n\u001b[1;32m    867\u001b[0m         \u001b[0;32mtry\u001b[0m\u001b[0;34m:\u001b[0m\u001b[0;34m\u001b[0m\u001b[0;34m\u001b[0m\u001b[0m\n\u001b[0;32m--> 868\u001b[0;31m             \u001b[0mresult\u001b[0m \u001b[0;34m=\u001b[0m \u001b[0mself\u001b[0m\u001b[0;34m.\u001b[0m\u001b[0mindex\u001b[0m\u001b[0;34m.\u001b[0m\u001b[0mget_value\u001b[0m\u001b[0;34m(\u001b[0m\u001b[0mself\u001b[0m\u001b[0;34m,\u001b[0m \u001b[0mkey\u001b[0m\u001b[0;34m)\u001b[0m\u001b[0;34m\u001b[0m\u001b[0;34m\u001b[0m\u001b[0m\n\u001b[0m\u001b[1;32m    869\u001b[0m \u001b[0;34m\u001b[0m\u001b[0m\n\u001b[1;32m    870\u001b[0m             \u001b[0;32mif\u001b[0m \u001b[0;32mnot\u001b[0m \u001b[0mis_scalar\u001b[0m\u001b[0;34m(\u001b[0m\u001b[0mresult\u001b[0m\u001b[0;34m)\u001b[0m\u001b[0;34m:\u001b[0m\u001b[0;34m\u001b[0m\u001b[0;34m\u001b[0m\u001b[0m\n",
      "\u001b[0;32m~/conda/lib/python3.6/site-packages/pandas/core/indexes/base.py\u001b[0m in \u001b[0;36mget_value\u001b[0;34m(self, series, key)\u001b[0m\n\u001b[1;32m   4379\u001b[0m \u001b[0;34m\u001b[0m\u001b[0m\n\u001b[1;32m   4380\u001b[0m             \u001b[0;32mtry\u001b[0m\u001b[0;34m:\u001b[0m\u001b[0;34m\u001b[0m\u001b[0;34m\u001b[0m\u001b[0m\n\u001b[0;32m-> 4381\u001b[0;31m                 \u001b[0;32mreturn\u001b[0m \u001b[0mlibindex\u001b[0m\u001b[0;34m.\u001b[0m\u001b[0mget_value_box\u001b[0m\u001b[0;34m(\u001b[0m\u001b[0ms\u001b[0m\u001b[0;34m,\u001b[0m \u001b[0mkey\u001b[0m\u001b[0;34m)\u001b[0m\u001b[0;34m\u001b[0m\u001b[0;34m\u001b[0m\u001b[0m\n\u001b[0m\u001b[1;32m   4382\u001b[0m             \u001b[0;32mexcept\u001b[0m \u001b[0mIndexError\u001b[0m\u001b[0;34m:\u001b[0m\u001b[0;34m\u001b[0m\u001b[0;34m\u001b[0m\u001b[0m\n\u001b[1;32m   4383\u001b[0m                 \u001b[0;32mraise\u001b[0m\u001b[0;34m\u001b[0m\u001b[0;34m\u001b[0m\u001b[0m\n",
      "\u001b[0;32mpandas/_libs/index.pyx\u001b[0m in \u001b[0;36mpandas._libs.index.get_value_box\u001b[0;34m()\u001b[0m\n",
      "\u001b[0;32mpandas/_libs/index.pyx\u001b[0m in \u001b[0;36mpandas._libs.index.get_value_at\u001b[0;34m()\u001b[0m\n",
      "\u001b[0;32mpandas/_libs/util.pxd\u001b[0m in \u001b[0;36mpandas._libs.util.get_value_at\u001b[0;34m()\u001b[0m\n",
      "\u001b[0;32mpandas/_libs/util.pxd\u001b[0m in \u001b[0;36mpandas._libs.util.validate_indexer\u001b[0;34m()\u001b[0m\n",
      "\u001b[0;31mIndexError\u001b[0m: index out of bounds"
     ]
    },
    {
     "data": {
      "image/png": "[encoded data removed]",
      "text/plain": [
       "<Figure size 432x288 with 1 Axes>"
      ]
     },
     "metadata": {
      "needs_background": "light"
     },
     "output_type": "display_data"
    }
   ],
   "source": [
    "#Plot only San Diego Formation samples in reduced ordination space\n",
    "p9 = sns.scatterplot(x = 'x', y = 'y', data = sandiego, style = \"Locality\", s = 50, palette = 'viridis')\n",
    "plt.legend(bbox_to_anchor = (1.05, 1), loc = 2, borderaxespad = 0)\n",
    "\n",
    "for line in range(0, pico.shape[0]):\n",
    "    p9.text(sandiego.x[line]+0.05, sandiego.y[line], sandiego.index[line], horizontalalignment='left', \n",
    "            size = 'small', color = 'black', weight = 'semibold')"
   ]
  }
 ],
 "metadata": {
  "kernelspec": {
   "display_name": "Python 3",
   "language": "python",
   "name": "python3"
  },
  "language_info": {
   "codemirror_mode": {
    "name": "ipython",
    "version": 3
   },
   "file_extension": ".py",
   "mimetype": "text/x-python",
   "name": "python",
   "nbconvert_exporter": "python",
   "pygments_lexer": "ipython3",
   "version": "3.6.10"
  }
 },
 "nbformat": 4,
 "nbformat_minor": 4
}
